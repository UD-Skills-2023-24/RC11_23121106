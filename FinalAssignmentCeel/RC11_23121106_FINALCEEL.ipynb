{
 "cells": [
  {
   "cell_type": "markdown",
   "id": "25254288",
   "metadata": {},
   "source": [
    "# Exercise One\n",
    "### 1. Implement this algorithm in Python. Use the NumPy ndarray object for your matrices;"
   ]
  },
  {
   "cell_type": "code",
   "execution_count": 7,
   "id": "64c742de",
   "metadata": {},
   "outputs": [],
   "source": [
    "import numpy as np\n",
    "\n",
    "def square_matrix_multiply(A, B):\n",
    "    n = len(A)\n",
    "    C = [[0] * n for row in range(n)] # Initialize result matrix C\n",
    "\n",
    "    for i in range(n):  # Iterate through rows of A\n",
    "        for j in range(n):  # Iterate through columns of B\n",
    "            for k in range(n):  # Iterate through elements of rows of A and columns of B\n",
    "                C[i][j] += A[i][k] * B[k][j]  # Compute the product and accumulate it in C\n",
    "\n",
    "    return C"
   ]
  },
  {
   "cell_type": "code",
   "execution_count": 8,
   "id": "6260685b",
   "metadata": {},
   "outputs": [
    {
     "name": "stdout",
     "output_type": "stream",
     "text": [
      "[[10, 28], [5, 30]]\n"
     ]
    }
   ],
   "source": [
    "# Example usage:\n",
    "A = np.array([[2,4],[0,5]])\n",
    "B = np.array([[3, 2],[1,6]])\n",
    "\n",
    "result = square_matrix_multiply(A, B)\n",
    "print(result)  "
   ]
  },
  {
   "cell_type": "markdown",
   "id": "f4fbf63c",
   "metadata": {},
   "source": [
    "### 2. Give the asymptotic time complexity of the above algorithm or your implementation (they should be the same). Justify and explain your answer.**"
   ]
  },
  {
   "cell_type": "markdown",
   "id": "c5dd0dc5",
   "metadata": {},
   "source": [
    "I think the asymptotic time complexity of the matrix multiplication algorithm above is \n",
    "O(n^3).\n",
    "\n",
    "'for i = 1 to n do'----------n times;\n",
    "\n",
    "'for j = 1 to n do'----------n times;\n",
    "\n",
    "'cij = 0 for k=1 to n do'----------n times;\n",
    "\n",
    "' cij = cij + aik × bkj'----------n times;\n",
    "\n",
    "So, O(n * n * n * n) = O(n^3)"
   ]
  },
  {
   "cell_type": "markdown",
   "id": "f017fba4",
   "metadata": {},
   "source": [
    "### 3. Implement the algorithm with nested lists and compare the algorithms on different sizes of matrices;\n",
    "\n",
    "### 4. Compare with built-in multiplication functions;"
   ]
  },
  {
   "cell_type": "code",
   "execution_count": 9,
   "id": "3a3dd735",
   "metadata": {},
   "outputs": [
    {
     "name": "stdout",
     "output_type": "stream",
     "text": [
      "Matrix size: 50x50\n",
      "NumPy time: 0.000 s\n",
      "Nested list time: 0.011 s\n",
      "\n",
      "Matrix size: 100x100\n",
      "NumPy time: 0.000 s\n",
      "Nested list time: 0.112 s\n",
      "\n",
      "Matrix size: 200x200\n",
      "NumPy time: 0.007 s\n",
      "Nested list time: 0.886 s\n",
      "\n"
     ]
    }
   ],
   "source": [
    "#To compare the algorithms on different sizes of matrices, \n",
    "#we can generate random matrices of varying sizes \n",
    "#and measure the time taken by each algorithm to multiply them\n",
    "\n",
    "import time\n",
    "\n",
    "# create a function to generate a random matrix of size n x n\n",
    "def generate_random_matrix(n):\n",
    "    return [[np.random.randint(20) for _ in range(n)] for _ in range(n)]\n",
    "\n",
    "#create different size of matrices to compare\n",
    "sizes = [50, 100, 200]\n",
    "for size in sizes:\n",
    "    A = generate_random_matrix(size)\n",
    "    B = generate_random_matrix(size)\n",
    "    \n",
    "    #Measure time with built-in multiplication functions\n",
    "    start_time = time.time()\n",
    "    np_result = np.dot(A, B) # np.dot(A, B) used for list; A@B used for Numpy arrays\n",
    "    numpy_time = time.time() - start_time\n",
    "\n",
    "    # Measure time for nested list implementation\n",
    "    start_time = time.time()\n",
    "    list_result = square_matrix_multiply(A, B)\n",
    "    list_time = time.time() - start_time\n",
    "    \n",
    "    print(f\"Matrix size: {size}x{size}\")\n",
    "    print(f\"NumPy time: {numpy_time:.3f} s\")\n",
    "    print(f\"Nested list time: {list_time:.3f} s\")\n",
    "    print()"
   ]
  },
  {
   "cell_type": "markdown",
   "id": "b7fa15c7",
   "metadata": {},
   "source": [
    "### 5. Look at multiplying more than two matrices, or at other operations on matrices."
   ]
  },
  {
   "cell_type": "code",
   "execution_count": 10,
   "id": "ec78fc69",
   "metadata": {},
   "outputs": [],
   "source": [
    "# multiplying three matrices:\n",
    "\n",
    "def multiply_matrices(*matrices):\n",
    "    result = matrices[0]\n",
    "    for matrix in matrices[1:]:\n",
    "        result = square_matrix_multiply(result, matrix)\n",
    "    return result"
   ]
  },
  {
   "cell_type": "code",
   "execution_count": 29,
   "id": "4cdb63ee",
   "metadata": {},
   "outputs": [
    {
     "name": "stdout",
     "output_type": "stream",
     "text": [
      "[[6460, 6326, 2934], [11143, 10504, 6048], [6694, 6452, 3564]]\n",
      "\n",
      "[[ 6460  6326  2934]\n",
      " [11143 10504  6048]\n",
      " [ 6694  6452  3564]]\n"
     ]
    }
   ],
   "source": [
    "# Example usage:\n",
    "A = [[2, 1, 13], [11, 3, 12], [6, 0, 10]]\n",
    "B = [[8, 2, 18], [17, 4, 10], [14, 10, 9]]\n",
    "C = [[15, 10, 0], [1, 9, 0], [19, 18, 18]]\n",
    "\n",
    "list_result = multiply_matrices(A, B, C)\n",
    "print(list_result)\n",
    "\n",
    "print()\n",
    "np_result = np.dot(np.dot(A, B), C) \n",
    "print(np_result)"
   ]
  },
  {
   "cell_type": "markdown",
   "id": "9db5852a",
   "metadata": {},
   "source": [
    "# Exercise Two\n",
    "### 1. Describe and explain the algorithm. It should contain at least the following:"
   ]
  },
  {
   "cell_type": "markdown",
   "id": "4c1a07b9",
   "metadata": {},
   "source": [
    "This algorithm, Square-Matrix-Multiply-Recursive (SMMRec), is a recursive implementation of matrix multiplication. \n",
    "\n",
    "1. \"SMMRec(A,B):\": accepts two matrices A and B as input.\n",
    "2. \"n = nr of rows of A\": Define a variable n which is equal to the number of rows of A, also the size of A.\n",
    "3. \"let C be a new n × n matrix\": Create a new square C with the same dimensions as A and B.\n",
    "4. \"if n == 1 then\":If the size of the matrix is 1 × 1, the following operations are performed; otherwise, the chunked multiplication of the matrix is performed.\n",
    "5. \"quarter matrices A, B, and C\":Divide the matrices A, B and C into four equal-sized sub-matrices.\n",
    "6. \"C11 = SMMRec(A11,B11) + SMMRec(A12,B21)\"\"C12 = SMMRec(A11,B12) + SMMRec(A12,B22)\"\"C21 = SMMRec(A21,B11) + SMMRec(A22,B21)\"\"C22 = SMMRec(A21,B12) + SMMRec(A22,B22)\": Calculate the value of C11 C12 C21 C22 separately.\n",
    "\n",
    "**recursiveness:**\n",
    "The base case of the recursion is when the size of the matrices becomes 1 × 1, the algorithm computes the product directly without further recursion.And in each recursion step, the algorithm divides the input matrices into four equal-sized submatrices. It then recursively multiplies these submatrices until the base case is reached, where it computes the product directly.\n",
    "\n",
    "**divide-and-conquer:**\n",
    "1. **Divide**:The algorithm divides the input matrices A, B, and C into four equal-sized submatrices.\n",
    "2. **Conquer**: It recursively multiplies these submatrices. Each multiplication involves recursively calling the SMMRec function until the base case is reached, and then directly computing the product.\n",
    "3. **Combine**: After computing the products of submatrices, the algorithm combines them to form the final result matrix C. The combination involves adding or summing the products of corresponding submatrices to form the corresponding submatrices of C."
   ]
  },
  {
   "cell_type": "markdown",
   "id": "61a2e580",
   "metadata": {},
   "source": [
    "### 2. Implement the recursive algorithm in Python. Reflect on which steps of the pseudocode were straightforward to implement and which hid a lot of complexity behind their language."
   ]
  },
  {
   "cell_type": "code",
   "execution_count": 11,
   "id": "8cfff3e9",
   "metadata": {},
   "outputs": [],
   "source": [
    "def split_matrix(A):\n",
    "    mid = len(A) // 2\n",
    "    A11 = [row[:mid] for row in A[:mid]]\n",
    "    A12 = [row[mid:] for row in A[:mid]]\n",
    "    A21 = [row[:mid] for row in A[mid:]]\n",
    "    A22 = [row[mid:] for row in A[mid:]]\n",
    "    return A11, A12, A21, A22\n",
    "\n",
    "def combine_matrices(C11, C12, C21, C22):\n",
    "    n = len(C11)\n",
    "    C = [[0 for _ in range(2 * n)] for _ in range(2 * n)]\n",
    "    for i in range(n):\n",
    "        for j in range(n):\n",
    "            C[i][j] = C11[i][j]\n",
    "            C[i][j + n] = C12[i][j]\n",
    "            C[i + n][j] = C21[i][j]\n",
    "            C[i + n][j + n] = C22[i][j]\n",
    "    return C\n",
    "\n",
    "def matrix_add(A, B):\n",
    "    return [[A[i][j] + B[i][j] for j in range(len(A))] for i in range(len(A))]\n",
    "\n",
    "def SMMRec(A, B):\n",
    "    n = len(A)\n",
    "    if n == 1:\n",
    "        # Base case: direct multiplication of 1x1 matrices\n",
    "        return [[A[0][0] * B[0][0]]]  \n",
    "    else:\n",
    "        # Split matrices into quarters\n",
    "        A11, A12, A21, A22 = split_matrix(A)\n",
    "        B11, B12, B21, B22 = split_matrix(B)\n",
    "\n",
    "        # Recursive calls to compute submatrix products\n",
    "        C11 = matrix_add(SMMRec(A11, B11), SMMRec(A12, B21))\n",
    "        C12 = matrix_add(SMMRec(A11, B12), SMMRec(A12, B22))\n",
    "        C21 = matrix_add(SMMRec(A21, B11), SMMRec(A22, B21))\n",
    "        C22 = matrix_add(SMMRec(A21, B12), SMMRec(A22, B22))\n",
    "\n",
    "        # Combine submatrix products into result matrix\n",
    "        return combine_matrices(C11, C12, C21, C22)"
   ]
  },
  {
   "cell_type": "code",
   "execution_count": 57,
   "id": "84923125",
   "metadata": {},
   "outputs": [
    {
     "name": "stdout",
     "output_type": "stream",
     "text": [
      "SMMRec result:\n",
      " [[554, 362, 485, 219], [307, 350, 424, 310], [814, 488, 673, 276], [594, 358, 583, 329]] \n",
      "\n",
      "np result:\n",
      " [[554 362 485 219]\n",
      " [307 350 424 310]\n",
      " [814 488 673 276]\n",
      " [594 358 583 329]]\n"
     ]
    }
   ],
   "source": [
    "# Example usage:\n",
    "A = [[9, 7, 10, 12], [8, 17, 2, 2], [13, 7, 15, 19], [19, 13, 2, 12]]\n",
    "B = [[15, 0, 13, 3], [7, 18, 16, 16], [19, 14, 16, 2], [15, 8, 8, 5]]\n",
    "\n",
    "C = SMMRec(A, B)\n",
    "print(\"SMMRec result:\\n\", C, \"\\n\")\n",
    "\n",
    "np_result = np.dot(A, B) # Check if the results of SMMRec are correct\n",
    "print(\"np result:\\n\", np_result)"
   ]
  },
  {
   "cell_type": "markdown",
   "id": "35e297f0",
   "metadata": {},
   "source": [
    "**Straightforward Steps:**\n",
    "Base case, splitting matrices and combining matrices are some straightforward steps.\n",
    "\n",
    "**Steps with Complexity:**\n",
    "1. matrix addition: Matrix addition involves iterating over corresponding elements of the matrices and adding them together. In the matrix_add() function, we iterate over the rows and columns of the matrices, accessing corresponding elements and adding them together.\n",
    "2. recursive call: Complexity is managing indices to access elements of matrices correctly. In the pseudocode, the algorithm computes the product of submatrices by performing addition and multiplication on their corresponding elements."
   ]
  },
  {
   "cell_type": "markdown",
   "id": "af52b8ed",
   "metadata": {},
   "source": [
    "### 3. Do a complexity analysis for the SMMRec algorithm. First comment on the complexity of the base case, divide step, conquer step, and combine step separately, then put it all together."
   ]
  },
  {
   "cell_type": "markdown",
   "id": "e4519e61",
   "metadata": {},
   "source": [
    "**Base case** B(n):\n",
    "O(1) because it involves a simple multiplication operation between two scalars.\n",
    "\n",
    "**Divide** D(n)：\n",
    "The divide step involves splitting the input matrices into quarters. Since this step involves iterating over all elements of the matrices, its time complexity is O(n^2)\n",
    "\n",
    "**Conquer** R(n)：\n",
    "The conquer step involves recursively multiplying submatrices until the base case is reached. The size of the matrices reduces by half in each recursive call.  Then in each recursive call, the size reduces to n/2. Therefore, the recursive conquer step has a complexity of T(n/2).\n",
    "\n",
    "**Combine** C(n):\n",
    "This step requires iterating over each element of the result matrix and copying or summing the corresponding elements from the submatrix products. Its time complexity is O(n^2).\n",
    "\n",
    "**Overall**:\n",
    "Overall time complexity: \n",
    "if base case: T(n) = O(1);\n",
    "else: O(n^2) + T(n/2) + O(n^2)"
   ]
  },
  {
   "cell_type": "markdown",
   "id": "c0904d71",
   "metadata": {},
   "source": [
    "### 4. Do a tree analysis;"
   ]
  },
  {
   "cell_type": "code",
   "execution_count": null,
   "id": "fb9f45d3",
   "metadata": {},
   "outputs": [],
   "source": [
    "                         (n x n)\n",
    "                        /   |   \\\n",
    "                       /    |    \\\n",
    "                 (n/2 x n/2) ... (n/2 x n/2) ...\n",
    "                /   |   \\         /    |    \\\n",
    "               /    |    \\       /     |     \\\n",
    "        (n/4 x n/4) ...   ... (n/4 x n/4) ...\n",
    "          / | \\                        / | \\\n",
    "         /  |  \\                      /  |  \\\n",
    "   (1 x 1) ... ...               (1 x 1) ... ..."
   ]
  },
  {
   "cell_type": "markdown",
   "id": "54d81d56",
   "metadata": {},
   "source": [
    "### 5. Test and compare the practical speed with the non-recursive algorithm"
   ]
  },
  {
   "cell_type": "code",
   "execution_count": 29,
   "id": "ee84f464",
   "metadata": {},
   "outputs": [
    {
     "name": "stdout",
     "output_type": "stream",
     "text": [
      "Matrix size: 16x16\n",
      "Recursive time: 0.010 s\n",
      "Non-recursive time: 0.000 s\n",
      "\n",
      "Matrix size: 64x64\n",
      "Recursive time: 0.335 s\n",
      "Non-recursive time: 0.000 s\n",
      "\n",
      "Matrix size: 128x128\n",
      "Recursive time: 2.818 s\n",
      "Non-recursive time: 0.000 s\n",
      "\n"
     ]
    }
   ],
   "source": [
    "# Test and compare the algorithms\n",
    "sizes = [16,64,128]  # Different sizes of matrices to test\n",
    "for size in sizes:\n",
    "    A = generate_random_matrix(size)\n",
    "    B = generate_random_matrix(size)\n",
    "    \n",
    "    # Measure time for recursive algorithm\n",
    "    start_time = time.time()\n",
    "    result_recursive = SMMRec(A, B)\n",
    "    recursive_time = time.time() - start_time\n",
    "\n",
    "    # Measure time for non-recursive algorithm (for comparison)\n",
    "    start_time = time.time()\n",
    "    result_non_recursive = np.dot(A, B)\n",
    "    non_recursive_time = time.time() - start_time\n",
    "\n",
    "    print(f\"Matrix size: {size}x{size}\")\n",
    "    print(f\"Recursive time: {recursive_time:.3f} s\")\n",
    "    print(f\"Non-recursive time: {non_recursive_time:.3f} s\")\n",
    "    print()"
   ]
  },
  {
   "cell_type": "markdown",
   "id": "43c4c21e",
   "metadata": {},
   "source": [
    "# Exercise Three\n",
    "### 1. Reflect on the difference between (complexity of) addition/subtraction and multiplication on matrices."
   ]
  },
  {
   "cell_type": "markdown",
   "id": "9902eaec",
   "metadata": {},
   "source": [
    "1. **addition and subtraction complexity**:\n",
    "These two operation are relatively straightforward and have a complexity of O(n^2),because each element in the result matrix is computed independently by adding or subtracting corresponding elements from the input matrices. The time complexity scales linearly with the number of elements in the matrices.\n",
    "\n",
    "2. **Multiplication Complexity**:\n",
    "Multiplication is more complicated.The time complexity of O(n^3) for two n × n matrices. Because each element in the result matrix is computed by taking the dot product of a row from the first matrix and a column from the second matrix. So,the time complexity of matrix multiplication grows cubically with the size of the matrices. "
   ]
  },
  {
   "cell_type": "markdown",
   "id": "c6b87144",
   "metadata": {},
   "source": [
    "### 2. Do a complexity analysis of the Strassen algorithm."
   ]
  },
  {
   "cell_type": "markdown",
   "id": "21d7dca9",
   "metadata": {},
   "source": [
    "**Base case** B(n):\n",
    "Same as Algorithm 2, the base case complexity remains O(1) as it involves a simple multiplication operation between two scalars.\n",
    "\n",
    "**Divide** D(n)：\n",
    "Splitting the input matrices into quarters requires O(n^2) time, as it involves creating four submatrices each with size n/2 × n/2, similar to Algorithm 2.\n",
    "\n",
    "**Conquer** R(n)：\n",
    "In Strassen's algorithm, there are 7 recursive calls (P1 to P7) instead of 8 as in Algorithm 2. Each recursive call computes the product of two submatrices with size n/2 × n/2 using Strassen's algorithm.\n",
    "Therefore, the complexity of the recursive step is 7 * T(n/2), where T(n/2) is the time complexity of multiplying two n/2 × n/2 matrices recursively.\n",
    "\n",
    "**Combine** C(n):\n",
    "Combining the submatrix products into the final result matrix involves addition and subtraction operations on the intermediate matrices (S1 to S10) and the products (P1 to P7).\n",
    "Similar to Algorithm 2, combining the submatrix products requires O(n^2) time.\n",
    "\n",
    "**Overall**:\n",
    "Overall time complexity: \n",
    "if base case: T(n) = O(1);\n",
    "else: O(n^2) + 7 * T(n/2) + O(n^2)\n",
    "\n",
    "**Difference**:\n",
    "The main difference lies in the conquer step.Algorithm 2 involves 8 recursive multiplications, but Strassen's algorithm reduces the number of recursive multiplications to 7. As a result, Strassen's algorithm achieves a better asymptotic time complexity, especially for large matrix sizes"
   ]
  },
  {
   "cell_type": "markdown",
   "id": "a6d42243",
   "metadata": {},
   "source": [
    "### 3. Implement and test the algorithm;"
   ]
  },
  {
   "cell_type": "code",
   "execution_count": 30,
   "id": "ea57adec",
   "metadata": {},
   "outputs": [],
   "source": [
    "def matrix_sub(A, B):\n",
    "    return [[A[i][j] - B[i][j] for j in range(len(A))] for i in range(len(A))]\n",
    "\n",
    "def Strassen(A, B):\n",
    "    n = len(A)\n",
    "    if n == 1:\n",
    "        # Base case: direct multiplication of 1x1 matrices\n",
    "        return [[A[0][0] * B[0][0]]]  \n",
    "    else:\n",
    "        # Split matrices into quarters\n",
    "        A11, A12, A21, A22 = split_matrix(A)\n",
    "        B11, B12, B21, B22 = split_matrix(B)\n",
    "\n",
    "        # Calculate intermediate matrices S1 to S10\n",
    "        S1 = matrix_sub(B12, B22)\n",
    "        S2 = matrix_add(A11, A12)\n",
    "        S3 = matrix_add(A21, A22)\n",
    "        S4 = matrix_sub(B21, B11)\n",
    "        S5 = matrix_add(A11, A22)\n",
    "        S6 = matrix_add(B11, B22)\n",
    "        S7 = matrix_sub(A12, A22)\n",
    "        S8 = matrix_add(B21, B22)\n",
    "        S9 = matrix_sub(A11, A21)\n",
    "        S10 = matrix_add(B11, B12)\n",
    "\n",
    "        # Calculate products P1 to P7\n",
    "        P1 = Strassen(A11, S1)\n",
    "        P2 = Strassen(S2, B22)\n",
    "        P3 = Strassen(S3, B11)\n",
    "        P4 = Strassen(A22, S4)\n",
    "        P5 = Strassen(S5, S6)\n",
    "        P6 = Strassen(S7, S8)\n",
    "        P7 = Strassen(S9, S10)\n",
    "\n",
    "        # Calculate quarters of result matrix C\n",
    "        C11 = matrix_add(matrix_sub(matrix_add(P5, P4), P2), P6)\n",
    "        C12 = matrix_add(P1, P2)\n",
    "        C21 = matrix_add(P3, P4)\n",
    "        C22 = matrix_sub(matrix_sub(matrix_add(P5, P1), P3), P7)\n",
    "\n",
    "        # Combine submatrix products into result matrix\n",
    "        return combine_matrices(C11, C12, C21, C22)"
   ]
  },
  {
   "cell_type": "code",
   "execution_count": 31,
   "id": "55800a3b",
   "metadata": {},
   "outputs": [
    {
     "name": "stdout",
     "output_type": "stream",
     "text": [
      "SMMRec result:\n",
      " [[554, 362, 485, 219], [307, 350, 424, 310], [814, 488, 673, 276], [594, 358, 583, 329]] \n",
      "\n",
      "np result:\n",
      " [[554 362 485 219]\n",
      " [307 350 424 310]\n",
      " [814 488 673 276]\n",
      " [594 358 583 329]]\n"
     ]
    }
   ],
   "source": [
    "# Example usage:\n",
    "A = [[9, 7, 10, 12], [8, 17, 2, 2], [13, 7, 15, 19], [19, 13, 2, 12]]\n",
    "B = [[15, 0, 13, 3], [7, 18, 16, 16], [19, 14, 16, 2], [15, 8, 8, 5]]\n",
    "\n",
    "C = Strassen(A, B)\n",
    "print(\"SMMRec result:\\n\", C, \"\\n\")\n",
    "\n",
    "np_result = np.dot(A, B) # Check if the results of SMMRec are correct\n",
    "print(\"np result:\\n\", np_result)"
   ]
  },
  {
   "cell_type": "code",
   "execution_count": 34,
   "id": "a3fed39f",
   "metadata": {},
   "outputs": [
    {
     "name": "stdout",
     "output_type": "stream",
     "text": [
      "Matrix size: 16x16\n",
      "Strassen's time: 0.002 s\n",
      "Recursive time: 0.012 s\n",
      "Non-recursive time: 0.000 s\n",
      "\n",
      "Matrix size: 64x64\n",
      "Strassen's time: 0.441 s\n",
      "Recursive time: 0.366 s\n",
      "Non-recursive time: 0.000 s\n",
      "\n",
      "Matrix size: 128x128\n",
      "Strassen's time: 3.250 s\n",
      "Recursive time: 2.714 s\n",
      "Non-recursive time: 0.000 s\n",
      "\n"
     ]
    }
   ],
   "source": [
    "# Test the Strassen algorithm\n",
    "sizes = [16, 64, 128]  # Different sizes of matrices to test\n",
    "for size in sizes:\n",
    "    A = generate_random_matrix(size)\n",
    "    B = generate_random_matrix(size)\n",
    "\n",
    "    # Measure time for Strassen's algorithm\n",
    "    start_time = time.time()\n",
    "    result_strassen = Strassen(A, B)\n",
    "    strassen_time = time.time() - start_time\n",
    "    \n",
    "    # Measure time for recursive algorithm\n",
    "    start_time = time.time()\n",
    "    result_recursive = SMMRec(A, B)\n",
    "    recursive_time = time.time() - start_time\n",
    "\n",
    "    # Measure time for non-recursive algorithm (for comparison)\n",
    "    start_time = time.time()\n",
    "    result_non_recursive = np.dot(A, B)\n",
    "    non_recursive_time = time.time() - start_time\n",
    "\n",
    "    print(f\"Matrix size: {size}x{size}\")\n",
    "    print(f\"Strassen's time: {strassen_time:.3f} s\")\n",
    "    print(f\"Recursive time: {recursive_time:.3f} s\")\n",
    "    print(f\"Non-recursive time: {non_recursive_time:.3f} s\")\n",
    "    print()"
   ]
  },
  {
   "cell_type": "markdown",
   "id": "9e0d7387",
   "metadata": {},
   "source": [
    "### 4. Discuss other optimisations;"
   ]
  },
  {
   "cell_type": "code",
   "execution_count": 43,
   "id": "9f3da829",
   "metadata": {},
   "outputs": [
    {
     "data": {
      "image/png": "[encoded data removed]",
      "text/plain": [
       "<Figure size 640x480 with 1 Axes>"
      ]
     },
     "metadata": {},
     "output_type": "display_data"
    },
    {
     "name": "stdout",
     "output_type": "stream",
     "text": [
      "Figure 1. Winograd’s convolution in two dimensional case.\n"
     ]
    }
   ],
   "source": [
    "import matplotlib.pyplot as plt\n",
    "import numpy as np\n",
    "from PIL import Image\n",
    "import requests\n",
    "from io import BytesIO\n",
    "\n",
    "image_url1 = \"https://www.mdpi.com/mathematics/mathematics-09-02033/article_deploy/html/images/mathematics-09-02033-g002.png\"\n",
    "response1 = requests.get(image_url1)\n",
    "img1 = Image.open(BytesIO(response1.content))\n",
    "img_array1 = np.array(img1)\n",
    "\n",
    "plt.imshow(img_array1)\n",
    "plt.axis('off')\n",
    "plt.show()\n",
    "print(\"Figure 1. Winograd’s convolution in two dimensional case.\")"
   ]
  },
  {
   "cell_type": "markdown",
   "id": "3fb84d0f",
   "metadata": {},
   "source": [
    "**Winograd's Algorithm:**\n",
    "\n",
    "Winograd's algorithm, is another algorithmic improvement over standard matrix multiplication and Strassen's algorithm. Like Strassen's algorithm, Winograd's algorithm aims to reduce the number of arithmetic operations required for matrix multiplication.\n",
    "\n",
    "This section provides further details of the implementation of the Winograd algorithm. At the top level, the algorithm starts with an input matrix, which is divided into tiles of 𝛼×𝛼 elements. Then, these tiles are processed separately. In fact, the processing of different tiles can take place in parallel and this is an important source of parallelism. The processing of each tile is done using the formulas, making space for the following sequence of four steps.\n",
    "1. Filter transformation\n",
    "2. Input transformation\n",
    "3. Multiplication\n",
    "4. Output transformation\n",
    "\n",
    "Winograd's algorithm applies certain mathematical transformations to the input matrices and intermediate results to simplify the multiplication process, achieving a further reduction in the number of arithmetic multiplications compared to Strassen's algorithm. It accomplishes this by decomposing the traditional matrix multiplication operation into smaller sub-operations that require fewer multiplications.In the meantime, Winograd's algorithm precomputes certain intermediate values that can be reused across multiple multiplications. By leveraging these precomputed values, the algorithm reduces redundant computations and achieves better computational efficiency."
   ]
  }
 ],
 "metadata": {
  "kernelspec": {
   "display_name": "Python 3 (ipykernel)",
   "language": "python",
   "name": "python3"
  },
  "language_info": {
   "codemirror_mode": {
    "name": "ipython",
    "version": 3
   },
   "file_extension": ".py",
   "mimetype": "text/x-python",
   "name": "python",
   "nbconvert_exporter": "python",
   "pygments_lexer": "ipython3",
   "version": "3.8.18"
  }
 },
 "nbformat": 4,
 "nbformat_minor": 5
}
